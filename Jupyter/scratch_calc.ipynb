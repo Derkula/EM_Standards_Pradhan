{
 "cells": [
  {
   "cell_type": "code",
   "execution_count": null,
   "id": "bd3e43ed-f39d-484a-81c7-b54551ec7999",
   "metadata": {},
   "outputs": [
    {
     "name": "stdout",
     "output_type": "stream",
     "text": [
      "8987551792.261171\n"
     ]
    }
   ],
   "source": [
    "# Requisites\n",
    "import numpy as np\n",
    "import scipy.constants as const\n",
    "\n",
    "# Constants\n",
    "mu0 = const.mu_0\n",
    "e0= const.epsilon_0\n",
    "e = const.elementary_charge\n",
    "\n",
    "k = 1/(4*np.pi*e0)\n",
    "\n",
    "\n",
    "def mag_hat(vector):\n",
    "    # Calculate magnitude and unit vectors\n",
    "    magnitude = np.linalg.norm(vector)\n",
    "    hat = vector/magnitude\n",
    "    return magnitude, hat\n",
    "\n",
    "def e_calc(charge, rmag, rhat):\n",
    "    # Calculate electric field, EQN: (kq/|r|^2)*rhat\n",
    "    e_field = (k*charge/rmag**2)*rhat\n",
    "    return e_field\n",
    "\n",
    "def eforce_calc(charge, efield):\n",
    "    force = charge*efield\n",
    "    return force\n"
   ]
  },
  {
   "cell_type": "code",
   "execution_count": 4,
   "id": "9cbfca99",
   "metadata": {},
   "outputs": [
    {
     "name": "stdout",
     "output_type": "stream",
     "text": [
      "1.25663706212e-06\n",
      "8.8541878128e-12\n",
      "299792458.0000065\n"
     ]
    }
   ],
   "source": [
    "print(mu0)\n",
    "print(e0)\n",
    "v = 1/np.sqrt(e0*mu0)\n",
    "print(v)"
   ]
  },
  {
   "cell_type": "code",
   "execution_count": null,
   "id": "7ad9dcb5",
   "metadata": {},
   "outputs": [],
   "source": []
  }
 ],
 "metadata": {
  "kernelspec": {
   "display_name": "Python 3",
   "language": "python",
   "name": "python3"
  },
  "language_info": {
   "codemirror_mode": {
    "name": "ipython",
    "version": 3
   },
   "file_extension": ".py",
   "mimetype": "text/x-python",
   "name": "python",
   "nbconvert_exporter": "python",
   "pygments_lexer": "ipython3",
   "version": "3.12.undefined"
  }
 },
 "nbformat": 4,
 "nbformat_minor": 5
}

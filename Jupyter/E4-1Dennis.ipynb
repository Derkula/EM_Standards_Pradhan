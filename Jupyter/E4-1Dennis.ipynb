{
 "cells": [
  {
   "cell_type": "code",
   "execution_count": 1,
   "id": "b2a65e3a-875a-4a72-8ff6-6759ca493d5c",
   "metadata": {},
   "outputs": [],
   "source": [
    "# Requisites\n",
    "import numpy as np\n",
    "import scipy.constants as const\n",
    "\n",
    "# Constants\n",
    "e0= const.epsilon_0\n",
    "e = const.elementary_charge\n",
    "k = 1/(4*np.pi*e0)\n",
    "\n",
    "\n",
    "def mag_hat(vector):\n",
    "    # Calculate magnitude and unit vectors\n",
    "    magnitude = np.linalg.norm(vector)\n",
    "    hat = vector/magnitude\n",
    "    return magnitude, hat\n",
    "\n",
    "def e_calc(charge, rmag, rhat):\n",
    "    # Calculate electric field, EQN: (kq/|r|^2)*rhat\n",
    "    e_field = (k*charge/rmag**2)*rhat\n",
    "    return e_field\n",
    "\n",
    "def eforce_calc(charge, efield):\n",
    "    force = charge*efield\n",
    "    return force"
   ]
  },
  {
   "cell_type": "code",
   "execution_count": null,
   "id": "54bbd2f1-bae8-47ca-9165-a479d6096bdf",
   "metadata": {},
   "outputs": [
    {
     "name": "stdout",
     "output_type": "stream",
     "text": [
      "E net:  [35071424.3271347  -7953983.33615114        0.        ]\n",
      "F net:  [ 1.69096047e+15 -3.83499436e+14  0.00000000e+00]\n"
     ]
    }
   ],
   "source": [
    "\n",
    "\n",
    "q10_1 = 2e-6\n",
    "q10_2 = 7e-6\n",
    "q10_3 = -5e-6\n",
    "\n",
    "loc10_q1 = np.array([0,0.04,0])\n",
    "loc10_q2 = np.array([0,0,0])\n",
    "loc10_q3 = np.array([0.03,0,0])\n",
    "\n",
    "r10_21 = loc10_q1\n",
    "r10_31 = loc10_q1 - loc10_q3\n",
    "\n",
    "r10_21_mag, r10_21_hat = mag_hat(r10_21)\n",
    "r10_31_mag, r10_31_hat = mag_hat(r10_31)\n",
    "\n",
    "e10_21 = e_calc(q10_2, r10_21_mag, r10_21_hat)\n",
    "e10_31 = e_calc(q10_3, r10_31_mag, r10_31_hat)\n",
    "\n",
    "e10_2131 = e10_21 + e10_31\n",
    "#print(e10_2131)\n",
    "\n",
    "f10_2131 = q10_1 * e10_2131\n",
    "#print(f10_2131)\n",
    "\n",
    "loc10_a = np.array([0.03,0.04,0])\n",
    "\n",
    "r10_q1a = loc10_q3\n",
    "r10_q2a = loc10_a\n",
    "r10_q3a = loc10_q1\n",
    "\n",
    "\n",
    "r_q1a_mag, r_q1a_hat = mag_hat(r10_q1a)\n",
    "r_q2a_mag, r_q2a_hat = mag_hat(r10_q2a)\n",
    "r_q3a_mag, r_q3a_hat = mag_hat(r10_q3a)\n",
    "\n",
    "e10_1a = e_calc(q10_1, r_q1a_mag, r_q1a_hat)\n",
    "e10_2a = e_calc(q10_2, r_q2a_mag, r_q2a_hat)\n",
    "e10_3a = e_calc(q10_3, r_q3a_mag, r_q3a_hat)\n",
    "\n",
    "e10_anet = e10_1a + e10_2a + e10_3a\n",
    "\n",
    "print(\"E net: \",e10_anet)\n",
    "m10 = 6.646e-27\n",
    "\n",
    "f10_qe = 2*e*e10_anet\n",
    "f10_acc = f10_qe/m10\n",
    "\n",
    "print(\"F net: \", f10_acc)\n",
    "\n"
   ]
  },
  {
   "cell_type": "code",
   "execution_count": null,
   "id": "6c31236f-4efe-4e90-9853-df92f6b7b4d0",
   "metadata": {},
   "outputs": [],
   "source": []
  }
 ],
 "metadata": {
  "kernelspec": {
   "display_name": "Python 3",
   "language": "python",
   "name": "python3"
  },
  "language_info": {
   "codemirror_mode": {
    "name": "ipython",
    "version": 3
   },
   "file_extension": ".py",
   "mimetype": "text/x-python",
   "name": "python",
   "nbconvert_exporter": "python",
   "pygments_lexer": "ipython3",
   "version": "3.12.undefined"
  }
 },
 "nbformat": 4,
 "nbformat_minor": 5
}

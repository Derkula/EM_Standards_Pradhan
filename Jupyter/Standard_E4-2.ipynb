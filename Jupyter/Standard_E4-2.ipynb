{
 "cells": [
  {
   "cell_type": "code",
   "execution_count": 1,
   "id": "7e0006f1-6a40-48fb-9737-0c2ffa526e56",
   "metadata": {},
   "outputs": [],
   "source": [
    "import numpy as np\n",
    "import scipy.constants as const\n",
    "\n",
    "# Constants\n",
    "e0= const.epsilon_0\n",
    "e = const.elementary_charge\n",
    "k = 1/(4*np.pi*e0)\n",
    "\n",
    "\n",
    "def mag_hat(vector):\n",
    "    # Calculate magnitude and unit vectors\n",
    "    magnitude = np.linalg.norm(vector)\n",
    "    hat = vector/magnitude\n",
    "    return magnitude, hat\n",
    "\n",
    "def e_calc(charge, rmag, rhat):\n",
    "    # Calculate electric field, EQN: (kq/|r|^2)*rhat\n",
    "    e = (k*charge/rmag**2)*rhat\n",
    "    return e\n",
    "\n",
    "def eforce_calc(charge, efield):\n",
    "    force = charge*efield\n",
    "    return force"
   ]
  },
  {
   "cell_type": "code",
   "execution_count": 3,
   "id": "9c79b99d-a047-4836-b498-4f8ad2cdb0d9",
   "metadata": {},
   "outputs": [
    {
     "name": "stdout",
     "output_type": "stream",
     "text": [
      "[3204.64534728 1373.41943455    0.        ] [    0.         22468.87948065     0.        ] [-3204.64534728  1373.41943455     0.        ]\n",
      "[    0.         25215.71834975     0.        ]\n"
     ]
    }
   ],
   "source": [
    "t_length = 0.14\n",
    "t_width = 0.018\n",
    "tape_q = 3e-9\n",
    "\n",
    "t_seg = t_length/3\n",
    "t_seg_center = t_seg/2\n",
    "t_seg_q = tape_q/3\n",
    "\n",
    "a5_loc = np.array([0,0.02,0])\n",
    "\n",
    "t_seg_end = np.array([t_length/2,0,0])\n",
    "t_seg_center = np.array([t_seg_center,0,0])\n",
    "t_seg3 = t_seg_end - t_seg_center\n",
    "t_seg1 = -1 * t_seg3\n",
    "\n",
    "t_r1a = a5_loc - t_seg1\n",
    "t_r3a = a5_loc - t_seg3\n",
    "\n",
    "a5_mag, a5_hat = mag_hat(a5_loc)\n",
    "t_r1a_mag, t_r1a_hat = mag_hat(t_r1a)\n",
    "t_r3a_mag, t_r3a_hat = mag_hat(t_r3a)\n",
    "\n",
    "t_e1 = e_calc(t_seg_q, t_r1a_mag, t_r1a_hat)\n",
    "t_e2 = e_calc(t_seg_q, a5_mag, a5_hat)\n",
    "t_e3 = e_calc(t_seg_q, t_r3a_mag, t_r3a_hat)\n",
    "\n",
    "t_enet = t_e1 + t_e2 + t_e3\n",
    "\n",
    "print(t_e1, t_e2, t_e3)        # P1,2,3\n",
    "print(t_enet)                  # P4"
   ]
  },
  {
   "cell_type": "code",
   "execution_count": null,
   "id": "43650f48-1ed1-446c-a214-d5671b1f58d9",
   "metadata": {},
   "outputs": [],
   "source": []
  }
 ],
 "metadata": {
  "kernelspec": {
   "display_name": "Python 3 (ipykernel)",
   "language": "python",
   "name": "python3"
  },
  "language_info": {
   "codemirror_mode": {
    "name": "ipython",
    "version": 3
   },
   "file_extension": ".py",
   "mimetype": "text/x-python",
   "name": "python",
   "nbconvert_exporter": "python",
   "pygments_lexer": "ipython3",
   "version": "3.12.9"
  }
 },
 "nbformat": 4,
 "nbformat_minor": 5
}
